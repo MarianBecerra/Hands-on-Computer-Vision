{
  "cells": [
    {
      "cell_type": "markdown",
      "metadata": {
        "id": "TWz-HOAPLRPs"
      },
      "source": [
        "![banner](https://github.com/MarianBecerra/Hands-on-Computer-Vision/blob/main/sesiones/sesion3/banner.png?raw=1)\n"
      ]
    },
    {
      "cell_type": "markdown",
      "metadata": {
        "id": "AcRZEsRLRwiG"
      },
      "source": [
        "# 🖥️✨ **Librerias importantes de Visión por Computadora**  \n",
        "\n",
        "🔹 **TorchVision** - Base principal para tareas de visión por computadora.  \n",
        "📂 **torchvision.datasets** - Accede a conjuntos de datos y carga de datos para visión por computadora.  \n",
        "🤖 **torchvision.models** - Modelos pre-entrenados listos para usar en tareas de visión por computadora.  \n",
        "🎨 **torchvision.transforms** - Transformaciones para el procesamiento de imágenes.  \n",
        "📦 **torch.utils.data.Dataset** - Clase base para crear conjuntos de datos en PyTorch.  \n",
        "🔄 **torch.utils.data.DataLoader** - Crea un iterable en Python para recorrer un conjunto de datos.  \n"
      ]
    },
    {
      "cell_type": "code",
      "execution_count": 1,
      "metadata": {
        "id": "xjOhv5DTQ-ee"
      },
      "outputs": [],
      "source": [
        "## @title Librerias importantes\n",
        "import torch\n",
        "from torch import nn\n",
        "import matplotlib.pyplot as plt\n",
        "import torchvision\n",
        "from torchvision import datasets\n",
        "from torchvision import transforms\n",
        "from torchvision.transforms import ToTensor\n",
        "from torch.utils.data import DataLoader"
      ]
    },
    {
      "cell_type": "code",
      "execution_count": 2,
      "metadata": {
        "id": "v1BknNLjXNPy"
      },
      "outputs": [],
      "source": [
        "## @title Primer Modelo\n",
        "import torch.nn as nn\n",
        "\n",
        "class ModelCV(nn.Module):\n",
        "    def __init__(self, input_shape: int, hidden_units: int, output_shape: int):\n",
        "        super().__init__()\n",
        "\n",
        "        self.flatten = nn.Flatten()\n",
        "        self.fc1 = nn.Linear(in_features=input_shape, out_features=hidden_units)\n",
        "        self.relu = nn.ReLU() # Funcion de activacion\n",
        "        self.fc2 = nn.Linear(in_features=hidden_units, out_features=output_shape)\n",
        "\n",
        "    def forward(self, x):\n",
        "        # x = self.flatten(x)\n",
        "        # x = self.fc1(x)\n",
        "        # x = self.fc2(x)\n",
        "        # return x\n",
        "        return self.fc2(self.relu(self.fc1(self.flatten(x))))"
      ]
    },
    {
      "cell_type": "code",
      "execution_count": 3,
      "metadata": {
        "colab": {
          "base_uri": "https://localhost:8080/"
        },
        "id": "lTLYmA0_Xt0W",
        "outputId": "59535080-44ff-4df2-f787-41659f8d336e"
      },
      "outputs": [
        {
          "output_type": "execute_result",
          "data": {
            "text/plain": [
              "ModelCV(\n",
              "  (flatten): Flatten(start_dim=1, end_dim=-1)\n",
              "  (fc1): Linear(in_features=1, out_features=10, bias=True)\n",
              "  (relu): ReLU()\n",
              "  (fc2): Linear(in_features=10, out_features=1, bias=True)\n",
              ")"
            ]
          },
          "metadata": {},
          "execution_count": 3
        }
      ],
      "source": [
        "model = ModelCV(input_shape=1, hidden_units=10, output_shape=1)\n",
        "# model.state_dict()\n",
        "model"
      ]
    },
    {
      "cell_type": "markdown",
      "metadata": {
        "id": "HvZqyhGGYpIy"
      },
      "source": [
        "# 🎛️ Capas Convolucionales (Convolutional Layers)\n",
        "\n",
        "🛠️ **Parámetros clave:**  \n",
        "- 🏗️ **Tamaño del kernel:** Define la región de la imagen que analiza cada filtro.  \n",
        "- ⚙️ **Stride (desplazamiento):** Determina cuánto se mueve el filtro en cada paso.  \n",
        "- 🔲 **Padding:** Agrega píxeles alrededor de la imagen para mantener su tamaño.\n",
        "\n",
        "https://poloclub.github.io/cnn-explainer/"
      ]
    },
    {
      "cell_type": "code",
      "execution_count": 4,
      "metadata": {
        "id": "wE8faji6YoZ1"
      },
      "outputs": [],
      "source": [
        "# Cambia las partes que digan \"FIXME\"\n",
        "class ModelCV2(nn.Module):\n",
        "  def __init__(self, input_shape: int, hidden_units: int, output_shape: int):\n",
        "    super().__init__()\n",
        "    self.conv1 = nn.Conv2d(in_channels=input_shape, out_channels=hidden_units, kernel_size=3, stride=1, padding=0)\n",
        "    self.relu1 = nn.ReLU() # cambialo si quieres\n",
        "    self.flatten = nn.Flatten()\n",
        "    self.fc1 = nn.Linear(in_features=26*26*hidden_units, out_features=hidden_units)\n",
        "    self.relu2 = nn.ReLU()\n",
        "    self.fc2 = nn.Linear(in_features=hidden_units, out_features=output_shape)\n",
        "\n",
        "  def forward(self, x):\n",
        "    return self.fc2(self.relu2(self.fc1(self.flatten(self.relu1(self.conv1(x))))))"
      ]
    },
    {
      "cell_type": "markdown",
      "metadata": {
        "id": "gN9jjMI5BlOG"
      },
      "source": [
        "## 📂 Obteniendo un Dataset  \n",
        "\n",
        "El dataset que utilizaremos es **Fashion MNIST**, proveniente de `torchvision.datasets`.  \n",
        "\n",
        "🛍️ **Fashion MNIST** es una colección de imágenes en escala de grises que representa diferentes categorías de ropa y accesorios. Es una alternativa moderna al clásico **MNIST** de dígitos escritos a mano.  \n",
        "\n",
        "📌 **Fuente:** `torchvision.datasets`  \n"
      ]
    },
    {
      "cell_type": "code",
      "execution_count": 5,
      "metadata": {
        "colab": {
          "base_uri": "https://localhost:8080/"
        },
        "id": "M2CHxsV6Bi__",
        "outputId": "78fb556b-2fbb-4da1-f84b-19190519534f"
      },
      "outputs": [
        {
          "output_type": "stream",
          "name": "stderr",
          "text": [
            "100%|██████████| 26.4M/26.4M [00:01<00:00, 18.4MB/s]\n",
            "100%|██████████| 29.5k/29.5k [00:00<00:00, 296kB/s]\n",
            "100%|██████████| 4.42M/4.42M [00:00<00:00, 5.48MB/s]\n",
            "100%|██████████| 5.15k/5.15k [00:00<00:00, 9.82MB/s]\n"
          ]
        }
      ],
      "source": [
        "#Training y Testing Data\n",
        "train_data = datasets.FashionMNIST(root = \"data\",\n",
        "                                   train=True, # train dataset\n",
        "                                   download = True,\n",
        "                                   transform = ToTensor(), # posibles transformaciones\n",
        "                                   target_transform=None\n",
        "                                   )\n",
        "\n",
        "test_data = datasets.FashionMNIST(root=\"data\",\n",
        "                                  train=False,\n",
        "                                  download=True,\n",
        "                                  transform=ToTensor(),\n",
        "                                  target_transform=None\n",
        "                                  )"
      ]
    },
    {
      "cell_type": "code",
      "execution_count": 6,
      "metadata": {
        "colab": {
          "base_uri": "https://localhost:8080/"
        },
        "id": "uDicEdtPB5-a",
        "outputId": "641178fa-38be-4f98-caf0-ef88fcbd6694"
      },
      "outputs": [
        {
          "output_type": "execute_result",
          "data": {
            "text/plain": [
              "['T-shirt/top',\n",
              " 'Trouser',\n",
              " 'Pullover',\n",
              " 'Dress',\n",
              " 'Coat',\n",
              " 'Sandal',\n",
              " 'Shirt',\n",
              " 'Sneaker',\n",
              " 'Bag',\n",
              " 'Ankle boot']"
            ]
          },
          "metadata": {},
          "execution_count": 6
        }
      ],
      "source": [
        "class_names = train_data.classes\n",
        "class_names"
      ]
    },
    {
      "cell_type": "code",
      "execution_count": 7,
      "metadata": {
        "colab": {
          "base_uri": "https://localhost:8080/",
          "height": 445
        },
        "id": "nTbRcga1B753",
        "outputId": "712ade65-40c9-40e8-95f3-037aa2c2d1f3"
      },
      "outputs": [
        {
          "output_type": "stream",
          "name": "stdout",
          "text": [
            "image shape: torch.Size([1, 28, 28])\n"
          ]
        },
        {
          "output_type": "display_data",
          "data": {
            "text/plain": [
              "<Figure size 640x480 with 1 Axes>"
            ],
            "image/png": "[encoded data removed]"
          },
          "metadata": {}
        }
      ],
      "source": [
        "image, label = train_data[0] # Visualizacion\n",
        "print(f\"image shape: {image.shape}\") # dimension de una imagen\n",
        "plt.imshow(image.squeeze())\n",
        "plt.title(class_names[label])\n",
        "plt.axis(\"off\")\n",
        "plt.show()"
      ]
    },
    {
      "cell_type": "markdown",
      "metadata": {
        "id": "cvr5u1IjJ34_"
      },
      "source": [
        "### 👀 Visualización del Dataset  \n",
        "\n",
        "Para entender mejor los datos, vamos a visualizar algunas imágenes del **Fashion MNIST**.  \n",
        "\n",
        "🎨 Vamos a graficar algunas muestras para observar su apariencia y distribución.  \n"
      ]
    },
    {
      "cell_type": "code",
      "execution_count": 8,
      "metadata": {
        "colab": {
          "base_uri": "https://localhost:8080/",
          "height": 663
        },
        "id": "nvvHxcVKCPLS",
        "outputId": "582346f6-6954-41b4-fabc-58d1a9690a15"
      },
      "outputs": [
        {
          "output_type": "display_data",
          "data": {
            "text/plain": [
              "<Figure size 900x900 with 9 Axes>"
            ],
            "image/png": "[encoded data removed]"
          },
          "metadata": {}
        }
      ],
      "source": [
        "#VISUALIZE VISUALIZE VISUALIZE\n",
        "torch.manual_seed(42)\n",
        "\n",
        "fig = plt.figure(figsize=(9,9))\n",
        "rows, cols = 3, 3 # cuantas imagenes quieras ver...\n",
        "for i in range(1, rows*cols+1):\n",
        "  random_idx = torch.randint(0, len(train_data), size=[1]).item()\n",
        "  img, label = train_data[random_idx]\n",
        "  fig.add_subplot(rows, cols, i)\n",
        "  plt.imshow(img.squeeze(), cmap=\"gray\")\n",
        "  plt.title(class_names[label])\n",
        "  plt.axis(False)"
      ]
    },
    {
      "cell_type": "code",
      "execution_count": 9,
      "metadata": {
        "colab": {
          "base_uri": "https://localhost:8080/"
        },
        "id": "dsL9t4L-CZwk",
        "outputId": "56759f66-d969-4978-e9ef-8231c1c93e51"
      },
      "outputs": [
        {
          "output_type": "execute_result",
          "data": {
            "text/plain": [
              "(Dataset FashionMNIST\n",
              "     Number of datapoints: 60000\n",
              "     Root location: data\n",
              "     Split: Train\n",
              "     StandardTransform\n",
              " Transform: ToTensor(),\n",
              " Dataset FashionMNIST\n",
              "     Number of datapoints: 10000\n",
              "     Root location: data\n",
              "     Split: Test\n",
              "     StandardTransform\n",
              " Transform: ToTensor())"
            ]
          },
          "metadata": {},
          "execution_count": 9
        }
      ],
      "source": [
        "train_data, test_data #agrupar las imagenes"
      ]
    },
    {
      "cell_type": "markdown",
      "metadata": {
        "id": "MAU2uwhWMhcy"
      },
      "source": [
        "### 🚂 TrainDataloader y TestDataloader  \n",
        "\n",
        "Para entrenar y evaluar nuestro modelo, necesitamos **dataloaders** que nos ayuden a manejar los datos de manera eficiente.  \n",
        "\n",
        "🔄 **TrainDataloader**:  \n",
        "Se encarga de cargar los datos de entrenamiento en **lotes (batches)**, permitiendo el procesamiento en paralelo y la optimización del rendimiento.  \n",
        "\n",
        "🧪 **TestDataloader**:  \n",
        "Nos permite evaluar el modelo con datos de prueba para medir su precisión y rendimiento.  \n",
        "\n",
        "📌 Estos dataloaders provienen de `torch.utils.data.DataLoader`, que facilita la iteración sobre los datasets de `torchvision.datasets`.  \n"
      ]
    },
    {
      "cell_type": "code",
      "execution_count": 10,
      "metadata": {
        "colab": {
          "base_uri": "https://localhost:8080/"
        },
        "id": "ANqU18hECf_N",
        "outputId": "17dd0c35-944d-4011-d1e2-d4e4f888ba08"
      },
      "outputs": [
        {
          "output_type": "execute_result",
          "data": {
            "text/plain": [
              "(<torch.utils.data.dataloader.DataLoader at 0x7bf8962ea410>,\n",
              " <torch.utils.data.dataloader.DataLoader at 0x7bf896127990>)"
            ]
          },
          "metadata": {},
          "execution_count": 10
        }
      ],
      "source": [
        "BATCH_SIZE = 32 # Numero de imagenes por Batch\n",
        "\n",
        "#turn datasets into iterables (batches)\n",
        "\n",
        "train_dataloader = DataLoader(dataset = train_data,\n",
        "                          batch_size = BATCH_SIZE,\n",
        "                          shuffle=True)\n",
        "test_dataloader = DataLoader(dataset = test_data,\n",
        "                         batch_size = BATCH_SIZE,\n",
        "                         shuffle = False)\n",
        "\n",
        "train_dataloader, test_dataloader"
      ]
    },
    {
      "cell_type": "code",
      "execution_count": 11,
      "metadata": {
        "colab": {
          "base_uri": "https://localhost:8080/"
        },
        "id": "ylPuFxH4ClgW",
        "outputId": "3f204c5e-b897-41de-d606-9f0c113f5a2d"
      },
      "outputs": [
        {
          "output_type": "stream",
          "name": "stdout",
          "text": [
            "DataLoaders: (<torch.utils.data.dataloader.DataLoader object at 0x7bf8962ea410>, <torch.utils.data.dataloader.DataLoader object at 0x7bf8962ea410>)\n",
            "Length of train_dataloader: 1875 batches of 32...\n",
            "Length of test_dataloader: 313 batches of 32...\n"
          ]
        }
      ],
      "source": [
        "# Veamos lo que acabamos de crear\n",
        "\n",
        "print(f\"DataLoaders: {train_dataloader,train_dataloader }\")\n",
        "print(f\"Length of train_dataloader: {len(train_dataloader)} batches of {BATCH_SIZE}...\")\n",
        "print(f\"Length of test_dataloader: {len(test_dataloader)} batches of {BATCH_SIZE}...\")"
      ]
    },
    {
      "cell_type": "code",
      "execution_count": 12,
      "metadata": {
        "colab": {
          "base_uri": "https://localhost:8080/"
        },
        "id": "a8a4WqNUCpMf",
        "outputId": "cfd0fe96-8e48-4873-d232-4e46b7c7974c"
      },
      "outputs": [
        {
          "output_type": "execute_result",
          "data": {
            "text/plain": [
              "(torch.Size([32, 1, 28, 28]), torch.Size([32]))"
            ]
          },
          "metadata": {},
          "execution_count": 12
        }
      ],
      "source": [
        "# veamos que hay dentro del traindataloader\n",
        "train_features_batch, train_labels_batch = next(iter(train_dataloader))\n",
        "train_features_batch.shape, train_labels_batch.shape"
      ]
    },
    {
      "cell_type": "code",
      "execution_count": null,
      "metadata": {
        "id": "-onsQVbSrdsc"
      },
      "outputs": [],
      "source": [
        "# img_prueba = torch.rand(size=(32,1,28,28))\n",
        "# print(img_prueba.shape)\n",
        "# labels_len = len(class_names)\n",
        "# model = ModelCV2(input_shape=1, hidden_units=64, output_shape=labels_len)\n",
        "# salida = model(img_prueba)"
      ]
    },
    {
      "cell_type": "code",
      "execution_count": 14,
      "metadata": {
        "id": "psdl-jBTrehK",
        "outputId": "f0411593-8880-459f-8eb1-54f8e6d43cda",
        "colab": {
          "base_uri": "https://localhost:8080/"
        }
      },
      "outputs": [
        {
          "output_type": "execute_result",
          "data": {
            "text/plain": [
              "ModelCV2(\n",
              "  (conv1): Conv2d(1, 64, kernel_size=(3, 3), stride=(1, 1))\n",
              "  (relu1): ReLU()\n",
              "  (flatten): Flatten(start_dim=1, end_dim=-1)\n",
              "  (fc1): Linear(in_features=43264, out_features=64, bias=True)\n",
              "  (relu2): ReLU()\n",
              "  (fc2): Linear(in_features=64, out_features=10, bias=True)\n",
              ")"
            ]
          },
          "metadata": {},
          "execution_count": 14
        }
      ],
      "source": [
        "model = ModelCV2(input_shape=1, hidden_units=64, output_shape=len(class_names))\n",
        "model"
      ]
    },
    {
      "cell_type": "markdown",
      "metadata": {
        "id": "vVZgfogoMs2z"
      },
      "source": [
        "## 🎯 Elección de la Función de Pérdida y el Optimizador  \n",
        "\n",
        "Para entrenar nuestra red neuronal, necesitamos definir:\n",
        "\n",
        "📌 En PyTorch, podemos encontrar múltiples opciones en `torch.nn` (para la pérdida) y `torch.optim` (para el optimizador).  "
      ]
    },
    {
      "cell_type": "code",
      "execution_count": 16,
      "metadata": {
        "id": "z7zvzwyErjO3"
      },
      "outputs": [],
      "source": [
        "loss_fn = nn.CrossEntropyLoss()\n",
        "optimizer = torch.optim.SGD(params = model.parameters(), lr = 0.1)"
      ]
    },
    {
      "cell_type": "code",
      "execution_count": 17,
      "metadata": {
        "id": "Ozgtwf7BvjoU",
        "outputId": "ec4f855a-314b-4100-89e6-105256992153",
        "colab": {
          "base_uri": "https://localhost:8080/",
          "height": 35
        }
      },
      "outputs": [
        {
          "output_type": "execute_result",
          "data": {
            "text/plain": [
              "'cpu'"
            ],
            "application/vnd.google.colaboratory.intrinsic+json": {
              "type": "string"
            }
          },
          "metadata": {},
          "execution_count": 17
        }
      ],
      "source": [
        "# Agnostic Code\n",
        "device = \"cuda\" if torch.cuda.is_available() else \"cpu\"\n",
        "device"
      ]
    },
    {
      "cell_type": "code",
      "execution_count": 18,
      "metadata": {
        "id": "q_eGeCfPviJs"
      },
      "outputs": [],
      "source": [
        "# NO modifiques esta celda ♥\n",
        "def accuracy_fn(y_true, y_pred):\n",
        "  correct = torch.eq(y_true, y_pred).sum().item()\n",
        "  acc = (correct/len(y_pred)) * 100\n",
        "  return acc"
      ]
    },
    {
      "cell_type": "markdown",
      "metadata": {
        "id": "C9TLWnjcNC_L"
      },
      "source": [
        "# 🚀 Entrenamiento del Modelo  \n",
        "\n",
        "Ahora entrenaremos nuestra red neuronal para que aprenda a clasificar las imágenes del dataset.  \n",
        "\n",
        "🔄 **Proceso de entrenamiento:**  \n",
        "1️⃣ Se envían imágenes al modelo.  \n",
        "2️⃣ El modelo realiza predicciones.  \n",
        "3️⃣ Se calcula la **pérdida (loss)** comparando predicciones con etiquetas reales.  \n",
        "4️⃣ Se ajustan los pesos con el **optimizador**.  \n",
        "5️⃣ Se repite el proceso en varias **épocas (epochs)** hasta mejorar el desempeño.  \n"
      ]
    },
    {
      "cell_type": "code",
      "execution_count": 19,
      "metadata": {
        "id": "x7SmLESZtObr",
        "outputId": "ed319572-a990-4d5c-999d-20b84b0fc802",
        "colab": {
          "base_uri": "https://localhost:8080/",
          "height": 86,
          "referenced_widgets": [
            "18162c7607e04d2b83f0db177d6f51b8",
            "16f8ee38c1784b479e2cf3f61c8abc75",
            "57940461843d420890937262e0ef3f6b",
            "40202e6369f549d4950fbdf7dfe43133",
            "e82742842ade4c0ca611bcc68136465f",
            "1a0c0175eb574606a9932d0698e3a34e",
            "d878cbeed911403fa8725ee955c89d89",
            "b3a40e10a41c43be928fcf08c2ef764d",
            "a8269c2d788c4049b17707488428a20b",
            "e1a246d68a674a7ba68a7e51ab9b00e9",
            "b5381c5b0f5d439cb0121045d13b2590"
          ]
        }
      },
      "outputs": [
        {
          "output_type": "display_data",
          "data": {
            "text/plain": [
              "  0%|          | 0/1 [00:00<?, ?it/s]"
            ],
            "application/vnd.jupyter.widget-view+json": {
              "version_major": 2,
              "version_minor": 0,
              "model_id": "18162c7607e04d2b83f0db177d6f51b8"
            }
          },
          "metadata": {}
        },
        {
          "output_type": "stream",
          "name": "stdout",
          "text": [
            "epoch: 0 | Train loss: 0.49852, train acc: 81.53 | Test loss: 0.37116, test acc: 86.65\n"
          ]
        }
      ],
      "source": [
        "from tqdm.auto import tqdm\n",
        "torch.manual_seed(42)\n",
        "epochs = 1\n",
        "\n",
        "for epoch in tqdm(range(epochs)):\n",
        "  train_loss = 0\n",
        "  train_acc = 0\n",
        "  for batch, (X_train, y_train) in enumerate(train_dataloader):\n",
        "    model.train()\n",
        "    X_train, y_train = X_train.to(device), y_train.to(device)\n",
        "    y_train_logits = model(X_train) #forward pass\n",
        "\n",
        "    # calculamos la funcion de perdida\n",
        "    loss = loss_fn(y_train_logits, y_train)\n",
        "    train_loss += loss\n",
        "    train_acc += accuracy_fn(y_true = y_train, y_pred = y_train_logits.argmax(dim=1))\n",
        "    # optimizer zero grad\n",
        "    optimizer.zero_grad()\n",
        "    # retropropagacion\n",
        "    loss.backward()\n",
        "    # optimizer step step step\n",
        "    optimizer.step ()\n",
        "  train_loss /= len(train_dataloader)\n",
        "  train_acc /= len(train_dataloader)\n",
        "  model.eval()\n",
        "  with torch.no_grad():\n",
        "    test_loss = 0\n",
        "    test_acc = 0\n",
        "    for X_test, y_test in test_dataloader:\n",
        "      X_test, y_test = X_test.to(device), y_test.to(device)\n",
        "      #forward pass\n",
        "      y_test_logits = model(X_test)\n",
        "      # calcular la loss\n",
        "      test_loss += loss_fn(y_test_logits, y_test)\n",
        "      test_acc += accuracy_fn(y_true = y_test, y_pred = y_test_logits.argmax(dim=1))\n",
        "    test_loss /= len(test_dataloader)\n",
        "    test_acc /= len(test_dataloader)\n",
        "  print(f\"epoch: {epoch} | Train loss: {train_loss:.5f}, train acc: {train_acc:.2f} | Test loss: {test_loss:.5f}, test acc: {test_acc:.2f}\")"
      ]
    },
    {
      "cell_type": "markdown",
      "metadata": {
        "id": "0pvwP0_2NPnx"
      },
      "source": [
        "# 📊 Evaluación del Modelo  \n",
        "\n",
        "Después del entrenamiento, es momento de evaluar el desempeño de nuestra red neuronal.  \n",
        "\n",
        "🛠️ **Proceso de evaluación:**  \n",
        "1️⃣ Se usa el **TestDataloader** para pasar imágenes de prueba al modelo.  \n",
        "2️⃣ Se comparan las predicciones con las etiquetas reales.  \n",
        "3️⃣ Se calcula la **precisión (accuracy)** y otras métricas de rendimiento.  \n",
        "\n",
        "📌 Esto nos ayuda a entender si el modelo **generaliza bien** o si necesita mejoras.  "
      ]
    },
    {
      "cell_type": "code",
      "execution_count": 20,
      "metadata": {
        "id": "EDF1QNqnvULg",
        "outputId": "f38f8bd1-1c76-4091-91b2-0f1f10e2378a",
        "colab": {
          "base_uri": "https://localhost:8080/",
          "height": 101,
          "referenced_widgets": [
            "49ea3d441dd643ce9c5cc9106dd1d985",
            "322c283ac8214518bb62c674e9f2d117",
            "4e4d493704b844598521863e4525ac2c",
            "f031e1a445f9409b8b100e631eda79ae",
            "437d12c42f3649d3a83250c95621641a",
            "150b194127ca410c91f0d4f37a8c6488",
            "3eadc44152ba4833b256582bd574601c",
            "ee2fcdccc06d412099914f95c11afb7b",
            "8dbd03b6e9fd437e851ff4aec8714161",
            "f21d481d0e454bcfaa931e628c972e3c",
            "9fa74c4e5acd4871a10c81bae14d276e"
          ]
        }
      },
      "outputs": [
        {
          "output_type": "display_data",
          "data": {
            "text/plain": [
              "  0%|          | 0/313 [00:00<?, ?it/s]"
            ],
            "application/vnd.jupyter.widget-view+json": {
              "version_major": 2,
              "version_minor": 0,
              "model_id": "49ea3d441dd643ce9c5cc9106dd1d985"
            }
          },
          "metadata": {}
        },
        {
          "output_type": "execute_result",
          "data": {
            "text/plain": [
              "{'model_name': 'ModelCV2',\n",
              " 'model_loss': 0.37116196751594543,\n",
              " 'model_acc': 86.65135782747603}"
            ]
          },
          "metadata": {},
          "execution_count": 20
        }
      ],
      "source": [
        "torch.manual_seed(42)\n",
        "\n",
        "def eval_model(model:torch.nn.Module,\n",
        "               data_loader: torch.utils.data.DataLoader,\n",
        "               loss_fn: torch.nn.Module,\n",
        "               accuracy_fn):\n",
        "    \"\"\" retorna un diccionario que contiene las predicciones del modelo\"\"\"\n",
        "    loss, acc = 0, 0\n",
        "    model.eval()\n",
        "\n",
        "    with torch.no_grad():\n",
        "      for X, y in tqdm(data_loader):\n",
        "        #make predictions\n",
        "        y_pred = model(X)\n",
        "\n",
        "        # Accumulate the loss and acc values per batch\n",
        "\n",
        "        loss += loss_fn(y_pred, y)\n",
        "        acc += accuracy_fn(y_true = y, y_pred = y_pred.argmax(dim=1))\n",
        "      # scale the loss and acc to find the average loss and acc per batch\n",
        "\n",
        "      loss /= len(data_loader)\n",
        "      acc /= len(data_loader)\n",
        "    return {\"model_name\": model.__class__.__name__,\n",
        "            \"model_loss\": loss.item(),\n",
        "            \"model_acc\": acc}\n",
        "model_0_results = eval_model(model=model,\n",
        "                             data_loader = test_dataloader,\n",
        "                             loss_fn =  loss_fn,\n",
        "                             accuracy_fn=accuracy_fn)\n",
        "model_0_results"
      ]
    },
    {
      "cell_type": "markdown",
      "metadata": {
        "id": "VHMUbLLPNkpL"
      },
      "source": [
        "## 🎨 Visualización de las Predicciones del Modelo  \n",
        "\n",
        "Para entender mejor el desempeño del modelo, vamos a **visualizar algunas predicciones**.  \n",
        "\n",
        "📸 **Proceso:**  \n",
        "1️⃣ Tomamos algunas imágenes del conjunto de prueba.  \n",
        "2️⃣ El modelo genera una predicción para cada imagen.  \n",
        "3️⃣ Comparamos la predicción con la etiqueta real.  \n",
        "4️⃣ Mostramos las imágenes junto con sus etiquetas y predicciones.  \n",
        "\n",
        "📌 Esto nos permite identificar posibles **errores** y mejorar el modelo si es necesario.  \n"
      ]
    },
    {
      "cell_type": "code",
      "execution_count": 21,
      "metadata": {
        "id": "V_z3lCdjwrsV"
      },
      "outputs": [],
      "source": [
        "# NO modifiques esta celda ♥\n",
        "def make_predictions(model:torch.nn.Module,\n",
        "                     data: list,\n",
        "                     device: torch.device = device):\n",
        "  pred_probs = []\n",
        "  model.to(device)\n",
        "  model.eval()\n",
        "  with torch.no_grad():\n",
        "    for sample in data:\n",
        "      #add a bacth dimension and pass to target device\n",
        "      sample = torch.unsqueeze(sample, dim=0).to(device)\n",
        "\n",
        "      pred_logit =  model(sample)\n",
        "\n",
        "      pred_prob = torch.softmax(pred_logit.squeeze(), dim=0)\n",
        "\n",
        "      #get pred_prob off the gpu\n",
        "      pred_probs.append(pred_prob.cpu())\n",
        "\n",
        "  #stack the pred_probs to turn list into a tensor\n",
        "  return torch.stack(pred_probs)"
      ]
    },
    {
      "cell_type": "code",
      "execution_count": 22,
      "metadata": {
        "id": "69e9M5HNwzCF",
        "outputId": "127c7fd4-5b6b-4879-b712-81b983db0755",
        "colab": {
          "base_uri": "https://localhost:8080/"
        }
      },
      "outputs": [
        {
          "output_type": "execute_result",
          "data": {
            "text/plain": [
              "Dataset FashionMNIST\n",
              "    Number of datapoints: 10000\n",
              "    Root location: data\n",
              "    Split: Test\n",
              "    StandardTransform\n",
              "Transform: ToTensor()"
            ]
          },
          "metadata": {},
          "execution_count": 22
        }
      ],
      "source": [
        "test_data"
      ]
    },
    {
      "cell_type": "code",
      "execution_count": 23,
      "metadata": {
        "id": "IALu1obTwz_J",
        "outputId": "c65128f9-d8e5-4614-cb2a-03c2e88990f3",
        "colab": {
          "base_uri": "https://localhost:8080/"
        }
      },
      "outputs": [
        {
          "output_type": "execute_result",
          "data": {
            "text/plain": [
              "torch.Size([1, 28, 28])"
            ]
          },
          "metadata": {},
          "execution_count": 23
        }
      ],
      "source": [
        "import random\n",
        "# random.seed(42)\n",
        "test_samples = []\n",
        "test_labels = []\n",
        "for sample, label in random.sample(list(test_data), k=9):\n",
        "  test_samples.append(sample)\n",
        "  test_labels.append(label)\n",
        "test_samples[0].shape"
      ]
    },
    {
      "cell_type": "code",
      "execution_count": 24,
      "metadata": {
        "id": "REXUjOm-w1Bw",
        "outputId": "c27a53bd-6722-48bd-f04b-62d148aa7a2c",
        "colab": {
          "base_uri": "https://localhost:8080/",
          "height": 469
        }
      },
      "outputs": [
        {
          "output_type": "execute_result",
          "data": {
            "text/plain": [
              "Text(0.5, 1.0, 'Bag')"
            ]
          },
          "metadata": {},
          "execution_count": 24
        },
        {
          "output_type": "display_data",
          "data": {
            "text/plain": [
              "<Figure size 640x480 with 1 Axes>"
            ],
            "image/png": "[encoded data removed]"
          },
          "metadata": {}
        }
      ],
      "source": [
        "plt.imshow(test_samples[0].squeeze(), cmap=\"gray\")\n",
        "plt.title(class_names[test_labels[0]])"
      ]
    },
    {
      "cell_type": "code",
      "execution_count": 25,
      "metadata": {
        "id": "Z4cR3y97w1_o",
        "outputId": "288963ef-7c7e-45c9-a1c2-87588339ec05",
        "colab": {
          "base_uri": "https://localhost:8080/"
        }
      },
      "outputs": [
        {
          "output_type": "execute_result",
          "data": {
            "text/plain": [
              "tensor([[2.2462e-03, 1.5346e-04, 9.2313e-04, 1.4729e-04, 7.3153e-04, 1.5567e-04,\n",
              "         1.5160e-03, 1.1116e-03, 9.9017e-01, 2.8477e-03],\n",
              "        [9.8363e-05, 2.7053e-05, 1.0569e-04, 1.1383e-04, 1.6792e-04, 5.6547e-03,\n",
              "         1.2636e-04, 8.4961e-01, 3.8863e-04, 1.4371e-01]])"
            ]
          },
          "metadata": {},
          "execution_count": 25
        }
      ],
      "source": [
        "# Hacemos predicciones\n",
        "pred_probs = make_predictions(model=model,\n",
        "                              data=test_samples,\n",
        "                              )\n",
        "#miremos👀\n",
        "pred_probs[:2]"
      ]
    },
    {
      "cell_type": "code",
      "execution_count": 26,
      "metadata": {
        "id": "EDSPURmHw28A",
        "outputId": "926e49b0-82dc-4892-c60b-91a0bdd5f3b2",
        "colab": {
          "base_uri": "https://localhost:8080/"
        }
      },
      "outputs": [
        {
          "output_type": "execute_result",
          "data": {
            "text/plain": [
              "(tensor([8, 7, 7, 7, 7, 1, 2, 7, 9]), [8, 7, 7, 7, 7, 1, 4, 7, 9])"
            ]
          },
          "metadata": {},
          "execution_count": 26
        }
      ],
      "source": [
        "# convertimos las probabilidades a clases\n",
        "pred_class = pred_probs.argmax(dim=1)\n",
        "pred_class, test_labels"
      ]
    },
    {
      "cell_type": "code",
      "execution_count": 27,
      "metadata": {
        "id": "mWnA0nzvw4Yh",
        "outputId": "cabe3cde-b742-41f5-ff5a-15209e56361a",
        "colab": {
          "base_uri": "https://localhost:8080/",
          "height": 638
        }
      },
      "outputs": [
        {
          "output_type": "display_data",
          "data": {
            "text/plain": [
              "<Figure size 900x900 with 9 Axes>"
            ],
            "image/png": "[encoded data removed]"
          },
          "metadata": {}
        }
      ],
      "source": [
        "# NO modifiques esta celda ♥\n",
        "plt.figure(figsize=(9,9))\n",
        "nrows = 3\n",
        "ncols = 3\n",
        "for i, sample in enumerate(test_samples):\n",
        "  plt.subplot(nrows, ncols, i+1)\n",
        "\n",
        "  #plot the target image\n",
        "  plt.imshow(sample.squeeze(), cmap = \"gray\")\n",
        "\n",
        "  #find the prediction label\n",
        "  pred_label = class_names[pred_class[i]]\n",
        "\n",
        "  #get the truth label\n",
        "  truth_label = class_names[test_labels[i]]\n",
        "\n",
        "  #create a tittle for the plot\n",
        "  tittle_text = f\"pred: {pred_label} | Truth: {truth_label}\"\n",
        "  if pred_label == truth_label:\n",
        "    plt.title(tittle_text, fontsize=10,c=\"g\")\n",
        "  else:\n",
        "    plt.title(tittle_text, fontsize=10,c=\"r\")\n",
        "  plt.axis(False)"
      ]
    },
    {
      "cell_type": "markdown",
      "metadata": {
        "id": "zFYUIlLKJ-Ac"
      },
      "source": [
        "## 🏗️ Implementación de TinyVGG  \n",
        "\n",
        "Vamos a construir **TinyVGG**, una versión simplificada de **VGGNet**, ideal para tareas de clasificación de imágenes.  \n",
        "\n",
        "⚙️ **Arquitectura de TinyVGG:**  \n",
        "🔹 Capas convolucionales (`Conv2d`) para extraer características.  \n",
        "🔹 Función de activación **ReLU** para introducir no linealidad.  \n",
        "🔹 Capas de **MaxPooling** para reducir la dimensionalidad.  \n",
        "🔹 Capas totalmente conectadas (`Linear`) para clasificar.  \n"
      ]
    },
    {
      "cell_type": "code",
      "execution_count": null,
      "metadata": {
        "id": "Q_bRWVsrCzVI"
      },
      "outputs": [],
      "source": [
        "#Test yourself try to replicate tinyvgg -> https://poloclub.github.io/cnn-explainer/\n",
        "class FashionMNISTModelV2(nn.Module):\n",
        "  def __init__(self, input_shape, hidden_units, output_shape):\n",
        "    super().__init__()\n",
        "    \"\"\"\n",
        "    Model Architecture that replicates the TinyVGG\n",
        "    model from CNN explainer website\n",
        "    \"\"\"\n",
        "    self.conv_blocl_1 = nn.Sequential(\n",
        "\n",
        "    )\n",
        "    self.conv_blocl_2 = nn.Sequential(\n",
        "\n",
        "    )\n",
        "    self.classifier = nn.Sequential(\n",
        "    )\n",
        "\n",
        "  def forward(self,x):\n",
        "    x = self.conv_blocl_1(x)\n",
        "    # print(x.shape)\n",
        "    x = self.conv_blocl_2(x)\n",
        "    # print(x.shape)\n",
        "    x = self.classifier(x)\n",
        "    # print(x.shape)\n",
        "    return x"
      ]
    },
    {
      "cell_type": "code",
      "execution_count": null,
      "metadata": {
        "colab": {
          "base_uri": "https://localhost:8080/"
        },
        "id": "OzYXghxfC1n1",
        "outputId": "c8adb5e8-8e22-4a21-c8c8-40fc7d66ae94"
      },
      "outputs": [
        {
          "data": {
            "text/plain": [
              "torch.Size([1, 28, 28])"
            ]
          },
          "execution_count": 15,
          "metadata": {},
          "output_type": "execute_result"
        }
      ],
      "source": [
        "image.shape"
      ]
    },
    {
      "cell_type": "code",
      "execution_count": null,
      "metadata": {
        "colab": {
          "base_uri": "https://localhost:8080/",
          "height": 35
        },
        "id": "eNCoeHw4C8a5",
        "outputId": "540e2454-614e-4bbb-f015-0a039f95e8b4"
      },
      "outputs": [
        {
          "data": {
            "application/vnd.google.colaboratory.intrinsic+json": {
              "type": "string"
            },
            "text/plain": [
              "'cpu'"
            ]
          },
          "execution_count": 16,
          "metadata": {},
          "output_type": "execute_result"
        }
      ],
      "source": [
        "device = \"cuda\" if torch.cuda.is_available() else \"cpu\"\n",
        "device"
      ]
    },
    {
      "cell_type": "code",
      "execution_count": null,
      "metadata": {
        "id": "TMTKkcHHC6cy"
      },
      "outputs": [],
      "source": [
        "torch.manual_seed(42)\n",
        "model_2 = FashionMNISTModelV2(input_shape=1, # canales de la imagen\n",
        "                              hidden_units=10, # numero de filtros\n",
        "                              output_shape=len(class_names)\n",
        "                              ).to(device)\n",
        "# model_2.state_dict()"
      ]
    },
    {
      "cell_type": "markdown",
      "metadata": {
        "id": "iuCzQ7yPKDGR"
      },
      "source": [
        "### Loss function and optimizer"
      ]
    },
    {
      "cell_type": "code",
      "execution_count": null,
      "metadata": {
        "id": "CzvjWHVPDIGm"
      },
      "outputs": [],
      "source": [
        "loss_fn = nn.CrossEntropyLoss() # <-- ¿Por qué este?\n",
        "#cambialos si quieres\n",
        "optimizer = torch.optim.SGD(params = model_2.parameters(), lr=\"FIXME\") # < -- ¿Por qué este?"
      ]
    },
    {
      "cell_type": "code",
      "execution_count": null,
      "metadata": {
        "id": "D5V1_vDpDRPr"
      },
      "outputs": [],
      "source": [
        "# DO NOT change this\n",
        "def accuracy_fn(y_true, y_pred):\n",
        "  correct = torch.eq(y_true, y_pred).sum().item()\n",
        "  acc = (correct/len(y_pred)) * 100\n",
        "  return acc"
      ]
    },
    {
      "cell_type": "markdown",
      "metadata": {
        "id": "BYmkvHNcHpxx"
      },
      "source": [
        "##Train fuction"
      ]
    },
    {
      "cell_type": "code",
      "execution_count": null,
      "metadata": {
        "colab": {
          "base_uri": "https://localhost:8080/",
          "height": 101,
          "referenced_widgets": [
            "c0db828404604adeb42596bd97a01c6a",
            "5d5c1e9a3ce74484b94daa529aadbc6a",
            "81ca36b9233d48099bcdb05d8c61831c",
            "342f9bfc39e54485b5d3fbab076a3247",
            "a890a561a10c4a64918b02a14d53cc20",
            "d288bb5d54f14156bacced56f619cc46",
            "6378856632814f6e8936b129318b7007",
            "9c14bc2afb2e464c96c3c3e952ab5c05",
            "92ac9292267a40a3a3753687175c048c",
            "e00c9127f9e7499998206daebb98dc1f",
            "310ccfb152ec43b09aebc305a5744273"
          ]
        },
        "id": "BiT1ilDNDL9e",
        "outputId": "8257063d-2ce7-475f-8391-9d55238eaf7f"
      },
      "outputs": [
        {
          "data": {
            "application/vnd.jupyter.widget-view+json": {
              "model_id": "c0db828404604adeb42596bd97a01c6a",
              "version_major": 2,
              "version_minor": 0
            },
            "text/plain": [
              "  0%|          | 0/3 [00:00<?, ?it/s]"
            ]
          },
          "metadata": {},
          "output_type": "display_data"
        },
        {
          "name": "stdout",
          "output_type": "stream",
          "text": [
            "epoch: 0 | Train loss: 0.59518, train acc: 78.38 | Test loss: 0.39500, test acc: 85.99\n",
            "epoch: 1 | Train loss: 0.36536, train acc: 86.90 | Test loss: 0.35244, test acc: 86.91\n",
            "epoch: 2 | Train loss: 0.32588, train acc: 88.13 | Test loss: 0.32719, test acc: 88.07\n"
          ]
        }
      ],
      "source": [
        "from tqdm.auto import tqdm\n",
        "torch.manual_seed(42)\n",
        "epochs = \"FIXME\"\n",
        "\n",
        "for epoch in tqdm(range(epochs)):\n",
        "  train_loss = 0\n",
        "  train_acc = 0\n",
        "  for batch, (X_train, y_train) in enumerate(train_dataloader):\n",
        "    \"FIXME\".train()\n",
        "    X_train, y_train = X_train.to(device), y_train.to(device)\n",
        "    y_train_logits = \"FIXME\"(\"FIXME\") #forward pass\n",
        "\n",
        "    # calcula la loss\n",
        "    loss = loss_fn(y_train_logits, y_train)\n",
        "    train_loss += loss\n",
        "    train_acc += accuracy_fn(y_true = y_train, y_pred = y_train_logits.argmax(dim=1))\n",
        "    # optimizer zero grad\n",
        "    \"FIXME\"\n",
        "    # loss backward\n",
        "    \"FIXME\"\n",
        "    # optimizer step step step\n",
        "    \"FIXME\"\n",
        "  train_loss /= len(train_dataloader) # <- Why we should divide?\n",
        "  train_acc /= len(train_dataloader)\n",
        "  \"FIXME\".eval()\n",
        "  with torch.no_grad():\n",
        "    test_loss = 0\n",
        "    test_acc = 0\n",
        "    for X_test, y_test in test_dataloader:\n",
        "      X_test, y_test = X_test.to(device), y_test.to(device)\n",
        "      #do the forward pass\n",
        "      y_test_logits = \"FIXME\"(\"FIXME\")\n",
        "      #calculate the loss\n",
        "      test_loss += loss_fn(y_test_logits, y_test)\n",
        "      test_acc += accuracy_fn(y_true = y_test, y_pred = y_test_logits.argmax(dim=1))\n",
        "    test_loss /= len(\"FIXME\")\n",
        "    test_acc /= len(\"FIXME\")\n",
        "  print(f\"epoch: {epoch} | Train loss: {train_loss:.5f}, train acc: {train_acc:.2f} | Test loss: {test_loss:.5f}, test acc: {test_acc:.2f}\")"
      ]
    },
    {
      "cell_type": "code",
      "execution_count": null,
      "metadata": {
        "colab": {
          "base_uri": "https://localhost:8080/",
          "height": 101,
          "referenced_widgets": [
            "22570d51287140fc955f57d8d2a3bd12",
            "4332b9cf4c994fe29894118de4bb3ede",
            "bcb29d99ace746dfa0a80a9c9d7a49d0",
            "f38df498c2ee49989ec62263d8a80d96",
            "e575d6128bda4569b74052e75db7920e",
            "6c1e7e5b4ff747de9ae0483f24e2f70b",
            "3ab74030e483470b8adc8e7f111a4368",
            "26e3b394a95f4642bea44426f98c22c6",
            "387faf3eef2e498e8b13f901cc65e2eb",
            "b08e986ed9704e62821d28e9f208bc59",
            "a52d4fc179c14b8a9c620ac173f824f7"
          ]
        },
        "id": "i6HO9K35DtxP",
        "outputId": "e0c6baa3-c6c2-4cfd-dbc4-2fa6d608db5e"
      },
      "outputs": [
        {
          "data": {
            "application/vnd.jupyter.widget-view+json": {
              "model_id": "22570d51287140fc955f57d8d2a3bd12",
              "version_major": 2,
              "version_minor": 0
            },
            "text/plain": [
              "  0%|          | 0/313 [00:00<?, ?it/s]"
            ]
          },
          "metadata": {},
          "output_type": "display_data"
        },
        {
          "data": {
            "text/plain": [
              "{'model_name': 'FashionMNISTModelV2',\n",
              " 'model_loss': 0.32718968391418457,\n",
              " 'model_acc': 88.06908945686901}"
            ]
          },
          "execution_count": 21,
          "metadata": {},
          "output_type": "execute_result"
        }
      ],
      "source": [
        "torch.manual_seed(42)\n",
        "\n",
        "def eval_model(model:torch.nn.Module,\n",
        "               data_loader: torch.utils.data.DataLoader,\n",
        "               loss_fn: torch.nn.Module,\n",
        "               accuracy_fn):\n",
        "    \"\"\" returns a dictionary containing the results of model predicting on data_loader\"\"\"\n",
        "    loss, acc = 0, 0\n",
        "    model.eval()\n",
        "\n",
        "    with torch.no_grad():\n",
        "      for X, y in tqdm(data_loader):\n",
        "        #make predictions\n",
        "        y_pred = model(X)\n",
        "\n",
        "        # Accumulate the loss and acc values per batch\n",
        "\n",
        "        loss += loss_fn(y_pred, y)\n",
        "        acc += accuracy_fn(y_true = y, y_pred = y_pred.argmax(dim=1))\n",
        "      # scale the loss and acc to find the average loss and acc per batch\n",
        "\n",
        "      loss /= len(data_loader)\n",
        "      acc /= len(data_loader)\n",
        "    return {\"model_name\": model.__class__.__name__,\n",
        "            \"model_loss\": loss.item(),\n",
        "            \"model_acc\": acc}\n",
        "model_0_results = eval_model(model=\"FIXME\",\n",
        "                             data_loader = test_dataloader,\n",
        "                             loss_fn =  loss_fn,\n",
        "                             accuracy_fn=accuracy_fn)\n",
        "model_0_results"
      ]
    },
    {
      "cell_type": "markdown",
      "metadata": {
        "id": "sy4ffJRXOWse"
      },
      "source": [
        "# 📋 Resumen del Modelo  \n",
        "\n",
        "Después de construir nuestra red, es importante revisar su **estructura y cantidad de parámetros**.  \n",
        "\n",
        "📌 **El resumen del modelo nos muestra:**  \n",
        "🔹 Las capas de la red y sus dimensiones.  \n",
        "🔹 La cantidad de parámetros entrenables.  \n",
        "🔹 La conexión entre cada capa.  \n",
        "\n",
        "✅ En `PyTorch`, podemos usar `print(model)` o `torchsummary.summary(model, input_size=(C, H, W))` para visualizarlo.  \n"
      ]
    },
    {
      "cell_type": "code",
      "execution_count": null,
      "metadata": {
        "id": "eX3UIP4IHNxb"
      },
      "outputs": [],
      "source": [
        "%%capture\n",
        "! pip install torchinfo"
      ]
    },
    {
      "cell_type": "code",
      "execution_count": null,
      "metadata": {
        "colab": {
          "base_uri": "https://localhost:8080/"
        },
        "id": "MfRfhe2EHKoi",
        "outputId": "f611dd4c-31d9-4055-bb6f-651634c71a88"
      },
      "outputs": [
        {
          "data": {
            "text/plain": [
              "=================================================================\n",
              "Layer (type:depth-idx)                   Param #\n",
              "=================================================================\n",
              "FashionMNISTModelV2                      --\n",
              "├─Sequential: 1-1                        --\n",
              "│    └─Conv2d: 2-1                       100\n",
              "│    └─ReLU: 2-2                         --\n",
              "│    └─Conv2d: 2-3                       910\n",
              "│    └─ReLU: 2-4                         --\n",
              "│    └─MaxPool2d: 2-5                    --\n",
              "├─Sequential: 1-2                        --\n",
              "│    └─Conv2d: 2-6                       910\n",
              "│    └─ReLU: 2-7                         --\n",
              "│    └─Conv2d: 2-8                       910\n",
              "│    └─ReLU: 2-9                         --\n",
              "│    └─MaxPool2d: 2-10                   --\n",
              "├─Sequential: 1-3                        --\n",
              "│    └─Flatten: 2-11                     --\n",
              "│    └─Linear: 2-12                      4,910\n",
              "=================================================================\n",
              "Total params: 7,740\n",
              "Trainable params: 7,740\n",
              "Non-trainable params: 0\n",
              "================================================================="
            ]
          },
          "execution_count": 24,
          "metadata": {},
          "output_type": "execute_result"
        }
      ],
      "source": [
        "import torchinfo\n",
        "torchinfo.summary(\"FIXME\")"
      ]
    }
  ],
  "metadata": {
    "colab": {
      "provenance": []
    },
    "kernelspec": {
      "display_name": "Python 3",
      "name": "python3"
    },
    "language_info": {
      "name": "python"
    },
    "widgets": {
      "application/vnd.jupyter.widget-state+json": {
        "22570d51287140fc955f57d8d2a3bd12": {
          "model_module": "@jupyter-widgets/controls",
          "model_module_version": "1.5.0",
          "model_name": "HBoxModel",
          "state": {
            "_dom_classes": [],
            "_model_module": "@jupyter-widgets/controls",
            "_model_module_version": "1.5.0",
            "_model_name": "HBoxModel",
            "_view_count": null,
            "_view_module": "@jupyter-widgets/controls",
            "_view_module_version": "1.5.0",
            "_view_name": "HBoxView",
            "box_style": "",
            "children": [
              "IPY_MODEL_4332b9cf4c994fe29894118de4bb3ede",
              "IPY_MODEL_bcb29d99ace746dfa0a80a9c9d7a49d0",
              "IPY_MODEL_f38df498c2ee49989ec62263d8a80d96"
            ],
            "layout": "IPY_MODEL_e575d6128bda4569b74052e75db7920e"
          }
        },
        "26e3b394a95f4642bea44426f98c22c6": {
          "model_module": "@jupyter-widgets/base",
          "model_module_version": "1.2.0",
          "model_name": "LayoutModel",
          "state": {
            "_model_module": "@jupyter-widgets/base",
            "_model_module_version": "1.2.0",
            "_model_name": "LayoutModel",
            "_view_count": null,
            "_view_module": "@jupyter-widgets/base",
            "_view_module_version": "1.2.0",
            "_view_name": "LayoutView",
            "align_content": null,
            "align_items": null,
            "align_self": null,
            "border": null,
            "bottom": null,
            "display": null,
            "flex": null,
            "flex_flow": null,
            "grid_area": null,
            "grid_auto_columns": null,
            "grid_auto_flow": null,
            "grid_auto_rows": null,
            "grid_column": null,
            "grid_gap": null,
            "grid_row": null,
            "grid_template_areas": null,
            "grid_template_columns": null,
            "grid_template_rows": null,
            "height": null,
            "justify_content": null,
            "justify_items": null,
            "left": null,
            "margin": null,
            "max_height": null,
            "max_width": null,
            "min_height": null,
            "min_width": null,
            "object_fit": null,
            "object_position": null,
            "order": null,
            "overflow": null,
            "overflow_x": null,
            "overflow_y": null,
            "padding": null,
            "right": null,
            "top": null,
            "visibility": null,
            "width": null
          }
        },
        "310ccfb152ec43b09aebc305a5744273": {
          "model_module": "@jupyter-widgets/controls",
          "model_module_version": "1.5.0",
          "model_name": "DescriptionStyleModel",
          "state": {
            "_model_module": "@jupyter-widgets/controls",
            "_model_module_version": "1.5.0",
            "_model_name": "DescriptionStyleModel",
            "_view_count": null,
            "_view_module": "@jupyter-widgets/base",
            "_view_module_version": "1.2.0",
            "_view_name": "StyleView",
            "description_width": ""
          }
        },
        "342f9bfc39e54485b5d3fbab076a3247": {
          "model_module": "@jupyter-widgets/controls",
          "model_module_version": "1.5.0",
          "model_name": "HTMLModel",
          "state": {
            "_dom_classes": [],
            "_model_module": "@jupyter-widgets/controls",
            "_model_module_version": "1.5.0",
            "_model_name": "HTMLModel",
            "_view_count": null,
            "_view_module": "@jupyter-widgets/controls",
            "_view_module_version": "1.5.0",
            "_view_name": "HTMLView",
            "description": "",
            "description_tooltip": null,
            "layout": "IPY_MODEL_e00c9127f9e7499998206daebb98dc1f",
            "placeholder": "​",
            "style": "IPY_MODEL_310ccfb152ec43b09aebc305a5744273",
            "value": " 3/3 [03:01&lt;00:00, 60.03s/it]"
          }
        },
        "387faf3eef2e498e8b13f901cc65e2eb": {
          "model_module": "@jupyter-widgets/controls",
          "model_module_version": "1.5.0",
          "model_name": "ProgressStyleModel",
          "state": {
            "_model_module": "@jupyter-widgets/controls",
            "_model_module_version": "1.5.0",
            "_model_name": "ProgressStyleModel",
            "_view_count": null,
            "_view_module": "@jupyter-widgets/base",
            "_view_module_version": "1.2.0",
            "_view_name": "StyleView",
            "bar_color": null,
            "description_width": ""
          }
        },
        "3ab74030e483470b8adc8e7f111a4368": {
          "model_module": "@jupyter-widgets/controls",
          "model_module_version": "1.5.0",
          "model_name": "DescriptionStyleModel",
          "state": {
            "_model_module": "@jupyter-widgets/controls",
            "_model_module_version": "1.5.0",
            "_model_name": "DescriptionStyleModel",
            "_view_count": null,
            "_view_module": "@jupyter-widgets/base",
            "_view_module_version": "1.2.0",
            "_view_name": "StyleView",
            "description_width": ""
          }
        },
        "4332b9cf4c994fe29894118de4bb3ede": {
          "model_module": "@jupyter-widgets/controls",
          "model_module_version": "1.5.0",
          "model_name": "HTMLModel",
          "state": {
            "_dom_classes": [],
            "_model_module": "@jupyter-widgets/controls",
            "_model_module_version": "1.5.0",
            "_model_name": "HTMLModel",
            "_view_count": null,
            "_view_module": "@jupyter-widgets/controls",
            "_view_module_version": "1.5.0",
            "_view_name": "HTMLView",
            "description": "",
            "description_tooltip": null,
            "layout": "IPY_MODEL_6c1e7e5b4ff747de9ae0483f24e2f70b",
            "placeholder": "​",
            "style": "IPY_MODEL_3ab74030e483470b8adc8e7f111a4368",
            "value": "100%"
          }
        },
        "5d5c1e9a3ce74484b94daa529aadbc6a": {
          "model_module": "@jupyter-widgets/controls",
          "model_module_version": "1.5.0",
          "model_name": "HTMLModel",
          "state": {
            "_dom_classes": [],
            "_model_module": "@jupyter-widgets/controls",
            "_model_module_version": "1.5.0",
            "_model_name": "HTMLModel",
            "_view_count": null,
            "_view_module": "@jupyter-widgets/controls",
            "_view_module_version": "1.5.0",
            "_view_name": "HTMLView",
            "description": "",
            "description_tooltip": null,
            "layout": "IPY_MODEL_d288bb5d54f14156bacced56f619cc46",
            "placeholder": "​",
            "style": "IPY_MODEL_6378856632814f6e8936b129318b7007",
            "value": "100%"
          }
        },
        "6378856632814f6e8936b129318b7007": {
          "model_module": "@jupyter-widgets/controls",
          "model_module_version": "1.5.0",
          "model_name": "DescriptionStyleModel",
          "state": {
            "_model_module": "@jupyter-widgets/controls",
            "_model_module_version": "1.5.0",
            "_model_name": "DescriptionStyleModel",
            "_view_count": null,
            "_view_module": "@jupyter-widgets/base",
            "_view_module_version": "1.2.0",
            "_view_name": "StyleView",
            "description_width": ""
          }
        },
        "6c1e7e5b4ff747de9ae0483f24e2f70b": {
          "model_module": "@jupyter-widgets/base",
          "model_module_version": "1.2.0",
          "model_name": "LayoutModel",
          "state": {
            "_model_module": "@jupyter-widgets/base",
            "_model_module_version": "1.2.0",
            "_model_name": "LayoutModel",
            "_view_count": null,
            "_view_module": "@jupyter-widgets/base",
            "_view_module_version": "1.2.0",
            "_view_name": "LayoutView",
            "align_content": null,
            "align_items": null,
            "align_self": null,
            "border": null,
            "bottom": null,
            "display": null,
            "flex": null,
            "flex_flow": null,
            "grid_area": null,
            "grid_auto_columns": null,
            "grid_auto_flow": null,
            "grid_auto_rows": null,
            "grid_column": null,
            "grid_gap": null,
            "grid_row": null,
            "grid_template_areas": null,
            "grid_template_columns": null,
            "grid_template_rows": null,
            "height": null,
            "justify_content": null,
            "justify_items": null,
            "left": null,
            "margin": null,
            "max_height": null,
            "max_width": null,
            "min_height": null,
            "min_width": null,
            "object_fit": null,
            "object_position": null,
            "order": null,
            "overflow": null,
            "overflow_x": null,
            "overflow_y": null,
            "padding": null,
            "right": null,
            "top": null,
            "visibility": null,
            "width": null
          }
        },
        "81ca36b9233d48099bcdb05d8c61831c": {
          "model_module": "@jupyter-widgets/controls",
          "model_module_version": "1.5.0",
          "model_name": "FloatProgressModel",
          "state": {
            "_dom_classes": [],
            "_model_module": "@jupyter-widgets/controls",
            "_model_module_version": "1.5.0",
            "_model_name": "FloatProgressModel",
            "_view_count": null,
            "_view_module": "@jupyter-widgets/controls",
            "_view_module_version": "1.5.0",
            "_view_name": "ProgressView",
            "bar_style": "success",
            "description": "",
            "description_tooltip": null,
            "layout": "IPY_MODEL_9c14bc2afb2e464c96c3c3e952ab5c05",
            "max": 3,
            "min": 0,
            "orientation": "horizontal",
            "style": "IPY_MODEL_92ac9292267a40a3a3753687175c048c",
            "value": 3
          }
        },
        "92ac9292267a40a3a3753687175c048c": {
          "model_module": "@jupyter-widgets/controls",
          "model_module_version": "1.5.0",
          "model_name": "ProgressStyleModel",
          "state": {
            "_model_module": "@jupyter-widgets/controls",
            "_model_module_version": "1.5.0",
            "_model_name": "ProgressStyleModel",
            "_view_count": null,
            "_view_module": "@jupyter-widgets/base",
            "_view_module_version": "1.2.0",
            "_view_name": "StyleView",
            "bar_color": null,
            "description_width": ""
          }
        },
        "9c14bc2afb2e464c96c3c3e952ab5c05": {
          "model_module": "@jupyter-widgets/base",
          "model_module_version": "1.2.0",
          "model_name": "LayoutModel",
          "state": {
            "_model_module": "@jupyter-widgets/base",
            "_model_module_version": "1.2.0",
            "_model_name": "LayoutModel",
            "_view_count": null,
            "_view_module": "@jupyter-widgets/base",
            "_view_module_version": "1.2.0",
            "_view_name": "LayoutView",
            "align_content": null,
            "align_items": null,
            "align_self": null,
            "border": null,
            "bottom": null,
            "display": null,
            "flex": null,
            "flex_flow": null,
            "grid_area": null,
            "grid_auto_columns": null,
            "grid_auto_flow": null,
            "grid_auto_rows": null,
            "grid_column": null,
            "grid_gap": null,
            "grid_row": null,
            "grid_template_areas": null,
            "grid_template_columns": null,
            "grid_template_rows": null,
            "height": null,
            "justify_content": null,
            "justify_items": null,
            "left": null,
            "margin": null,
            "max_height": null,
            "max_width": null,
            "min_height": null,
            "min_width": null,
            "object_fit": null,
            "object_position": null,
            "order": null,
            "overflow": null,
            "overflow_x": null,
            "overflow_y": null,
            "padding": null,
            "right": null,
            "top": null,
            "visibility": null,
            "width": null
          }
        },
        "a52d4fc179c14b8a9c620ac173f824f7": {
          "model_module": "@jupyter-widgets/controls",
          "model_module_version": "1.5.0",
          "model_name": "DescriptionStyleModel",
          "state": {
            "_model_module": "@jupyter-widgets/controls",
            "_model_module_version": "1.5.0",
            "_model_name": "DescriptionStyleModel",
            "_view_count": null,
            "_view_module": "@jupyter-widgets/base",
            "_view_module_version": "1.2.0",
            "_view_name": "StyleView",
            "description_width": ""
          }
        },
        "a890a561a10c4a64918b02a14d53cc20": {
          "model_module": "@jupyter-widgets/base",
          "model_module_version": "1.2.0",
          "model_name": "LayoutModel",
          "state": {
            "_model_module": "@jupyter-widgets/base",
            "_model_module_version": "1.2.0",
            "_model_name": "LayoutModel",
            "_view_count": null,
            "_view_module": "@jupyter-widgets/base",
            "_view_module_version": "1.2.0",
            "_view_name": "LayoutView",
            "align_content": null,
            "align_items": null,
            "align_self": null,
            "border": null,
            "bottom": null,
            "display": null,
            "flex": null,
            "flex_flow": null,
            "grid_area": null,
            "grid_auto_columns": null,
            "grid_auto_flow": null,
            "grid_auto_rows": null,
            "grid_column": null,
            "grid_gap": null,
            "grid_row": null,
            "grid_template_areas": null,
            "grid_template_columns": null,
            "grid_template_rows": null,
            "height": null,
            "justify_content": null,
            "justify_items": null,
            "left": null,
            "margin": null,
            "max_height": null,
            "max_width": null,
            "min_height": null,
            "min_width": null,
            "object_fit": null,
            "object_position": null,
            "order": null,
            "overflow": null,
            "overflow_x": null,
            "overflow_y": null,
            "padding": null,
            "right": null,
            "top": null,
            "visibility": null,
            "width": null
          }
        },
        "b08e986ed9704e62821d28e9f208bc59": {
          "model_module": "@jupyter-widgets/base",
          "model_module_version": "1.2.0",
          "model_name": "LayoutModel",
          "state": {
            "_model_module": "@jupyter-widgets/base",
            "_model_module_version": "1.2.0",
            "_model_name": "LayoutModel",
            "_view_count": null,
            "_view_module": "@jupyter-widgets/base",
            "_view_module_version": "1.2.0",
            "_view_name": "LayoutView",
            "align_content": null,
            "align_items": null,
            "align_self": null,
            "border": null,
            "bottom": null,
            "display": null,
            "flex": null,
            "flex_flow": null,
            "grid_area": null,
            "grid_auto_columns": null,
            "grid_auto_flow": null,
            "grid_auto_rows": null,
            "grid_column": null,
            "grid_gap": null,
            "grid_row": null,
            "grid_template_areas": null,
            "grid_template_columns": null,
            "grid_template_rows": null,
            "height": null,
            "justify_content": null,
            "justify_items": null,
            "left": null,
            "margin": null,
            "max_height": null,
            "max_width": null,
            "min_height": null,
            "min_width": null,
            "object_fit": null,
            "object_position": null,
            "order": null,
            "overflow": null,
            "overflow_x": null,
            "overflow_y": null,
            "padding": null,
            "right": null,
            "top": null,
            "visibility": null,
            "width": null
          }
        },
        "bcb29d99ace746dfa0a80a9c9d7a49d0": {
          "model_module": "@jupyter-widgets/controls",
          "model_module_version": "1.5.0",
          "model_name": "FloatProgressModel",
          "state": {
            "_dom_classes": [],
            "_model_module": "@jupyter-widgets/controls",
            "_model_module_version": "1.5.0",
            "_model_name": "FloatProgressModel",
            "_view_count": null,
            "_view_module": "@jupyter-widgets/controls",
            "_view_module_version": "1.5.0",
            "_view_name": "ProgressView",
            "bar_style": "success",
            "description": "",
            "description_tooltip": null,
            "layout": "IPY_MODEL_26e3b394a95f4642bea44426f98c22c6",
            "max": 313,
            "min": 0,
            "orientation": "horizontal",
            "style": "IPY_MODEL_387faf3eef2e498e8b13f901cc65e2eb",
            "value": 313
          }
        },
        "c0db828404604adeb42596bd97a01c6a": {
          "model_module": "@jupyter-widgets/controls",
          "model_module_version": "1.5.0",
          "model_name": "HBoxModel",
          "state": {
            "_dom_classes": [],
            "_model_module": "@jupyter-widgets/controls",
            "_model_module_version": "1.5.0",
            "_model_name": "HBoxModel",
            "_view_count": null,
            "_view_module": "@jupyter-widgets/controls",
            "_view_module_version": "1.5.0",
            "_view_name": "HBoxView",
            "box_style": "",
            "children": [
              "IPY_MODEL_5d5c1e9a3ce74484b94daa529aadbc6a",
              "IPY_MODEL_81ca36b9233d48099bcdb05d8c61831c",
              "IPY_MODEL_342f9bfc39e54485b5d3fbab076a3247"
            ],
            "layout": "IPY_MODEL_a890a561a10c4a64918b02a14d53cc20"
          }
        },
        "d288bb5d54f14156bacced56f619cc46": {
          "model_module": "@jupyter-widgets/base",
          "model_module_version": "1.2.0",
          "model_name": "LayoutModel",
          "state": {
            "_model_module": "@jupyter-widgets/base",
            "_model_module_version": "1.2.0",
            "_model_name": "LayoutModel",
            "_view_count": null,
            "_view_module": "@jupyter-widgets/base",
            "_view_module_version": "1.2.0",
            "_view_name": "LayoutView",
            "align_content": null,
            "align_items": null,
            "align_self": null,
            "border": null,
            "bottom": null,
            "display": null,
            "flex": null,
            "flex_flow": null,
            "grid_area": null,
            "grid_auto_columns": null,
            "grid_auto_flow": null,
            "grid_auto_rows": null,
            "grid_column": null,
            "grid_gap": null,
            "grid_row": null,
            "grid_template_areas": null,
            "grid_template_columns": null,
            "grid_template_rows": null,
            "height": null,
            "justify_content": null,
            "justify_items": null,
            "left": null,
            "margin": null,
            "max_height": null,
            "max_width": null,
            "min_height": null,
            "min_width": null,
            "object_fit": null,
            "object_position": null,
            "order": null,
            "overflow": null,
            "overflow_x": null,
            "overflow_y": null,
            "padding": null,
            "right": null,
            "top": null,
            "visibility": null,
            "width": null
          }
        },
        "e00c9127f9e7499998206daebb98dc1f": {
          "model_module": "@jupyter-widgets/base",
          "model_module_version": "1.2.0",
          "model_name": "LayoutModel",
          "state": {
            "_model_module": "@jupyter-widgets/base",
            "_model_module_version": "1.2.0",
            "_model_name": "LayoutModel",
            "_view_count": null,
            "_view_module": "@jupyter-widgets/base",
            "_view_module_version": "1.2.0",
            "_view_name": "LayoutView",
            "align_content": null,
            "align_items": null,
            "align_self": null,
            "border": null,
            "bottom": null,
            "display": null,
            "flex": null,
            "flex_flow": null,
            "grid_area": null,
            "grid_auto_columns": null,
            "grid_auto_flow": null,
            "grid_auto_rows": null,
            "grid_column": null,
            "grid_gap": null,
            "grid_row": null,
            "grid_template_areas": null,
            "grid_template_columns": null,
            "grid_template_rows": null,
            "height": null,
            "justify_content": null,
            "justify_items": null,
            "left": null,
            "margin": null,
            "max_height": null,
            "max_width": null,
            "min_height": null,
            "min_width": null,
            "object_fit": null,
            "object_position": null,
            "order": null,
            "overflow": null,
            "overflow_x": null,
            "overflow_y": null,
            "padding": null,
            "right": null,
            "top": null,
            "visibility": null,
            "width": null
          }
        },
        "e575d6128bda4569b74052e75db7920e": {
          "model_module": "@jupyter-widgets/base",
          "model_module_version": "1.2.0",
          "model_name": "LayoutModel",
          "state": {
            "_model_module": "@jupyter-widgets/base",
            "_model_module_version": "1.2.0",
            "_model_name": "LayoutModel",
            "_view_count": null,
            "_view_module": "@jupyter-widgets/base",
            "_view_module_version": "1.2.0",
            "_view_name": "LayoutView",
            "align_content": null,
            "align_items": null,
            "align_self": null,
            "border": null,
            "bottom": null,
            "display": null,
            "flex": null,
            "flex_flow": null,
            "grid_area": null,
            "grid_auto_columns": null,
            "grid_auto_flow": null,
            "grid_auto_rows": null,
            "grid_column": null,
            "grid_gap": null,
            "grid_row": null,
            "grid_template_areas": null,
            "grid_template_columns": null,
            "grid_template_rows": null,
            "height": null,
            "justify_content": null,
            "justify_items": null,
            "left": null,
            "margin": null,
            "max_height": null,
            "max_width": null,
            "min_height": null,
            "min_width": null,
            "object_fit": null,
            "object_position": null,
            "order": null,
            "overflow": null,
            "overflow_x": null,
            "overflow_y": null,
            "padding": null,
            "right": null,
            "top": null,
            "visibility": null,
            "width": null
          }
        },
        "f38df498c2ee49989ec62263d8a80d96": {
          "model_module": "@jupyter-widgets/controls",
          "model_module_version": "1.5.0",
          "model_name": "HTMLModel",
          "state": {
            "_dom_classes": [],
            "_model_module": "@jupyter-widgets/controls",
            "_model_module_version": "1.5.0",
            "_model_name": "HTMLModel",
            "_view_count": null,
            "_view_module": "@jupyter-widgets/controls",
            "_view_module_version": "1.5.0",
            "_view_name": "HTMLView",
            "description": "",
            "description_tooltip": null,
            "layout": "IPY_MODEL_b08e986ed9704e62821d28e9f208bc59",
            "placeholder": "​",
            "style": "IPY_MODEL_a52d4fc179c14b8a9c620ac173f824f7",
            "value": " 313/313 [00:05&lt;00:00, 49.62it/s]"
          }
        },
        "18162c7607e04d2b83f0db177d6f51b8": {
          "model_module": "@jupyter-widgets/controls",
          "model_name": "HBoxModel",
          "model_module_version": "1.5.0",
          "state": {
            "_dom_classes": [],
            "_model_module": "@jupyter-widgets/controls",
            "_model_module_version": "1.5.0",
            "_model_name": "HBoxModel",
            "_view_count": null,
            "_view_module": "@jupyter-widgets/controls",
            "_view_module_version": "1.5.0",
            "_view_name": "HBoxView",
            "box_style": "",
            "children": [
              "IPY_MODEL_16f8ee38c1784b479e2cf3f61c8abc75",
              "IPY_MODEL_57940461843d420890937262e0ef3f6b",
              "IPY_MODEL_40202e6369f549d4950fbdf7dfe43133"
            ],
            "layout": "IPY_MODEL_e82742842ade4c0ca611bcc68136465f"
          }
        },
        "16f8ee38c1784b479e2cf3f61c8abc75": {
          "model_module": "@jupyter-widgets/controls",
          "model_name": "HTMLModel",
          "model_module_version": "1.5.0",
          "state": {
            "_dom_classes": [],
            "_model_module": "@jupyter-widgets/controls",
            "_model_module_version": "1.5.0",
            "_model_name": "HTMLModel",
            "_view_count": null,
            "_view_module": "@jupyter-widgets/controls",
            "_view_module_version": "1.5.0",
            "_view_name": "HTMLView",
            "description": "",
            "description_tooltip": null,
            "layout": "IPY_MODEL_1a0c0175eb574606a9932d0698e3a34e",
            "placeholder": "​",
            "style": "IPY_MODEL_d878cbeed911403fa8725ee955c89d89",
            "value": "100%"
          }
        },
        "57940461843d420890937262e0ef3f6b": {
          "model_module": "@jupyter-widgets/controls",
          "model_name": "FloatProgressModel",
          "model_module_version": "1.5.0",
          "state": {
            "_dom_classes": [],
            "_model_module": "@jupyter-widgets/controls",
            "_model_module_version": "1.5.0",
            "_model_name": "FloatProgressModel",
            "_view_count": null,
            "_view_module": "@jupyter-widgets/controls",
            "_view_module_version": "1.5.0",
            "_view_name": "ProgressView",
            "bar_style": "success",
            "description": "",
            "description_tooltip": null,
            "layout": "IPY_MODEL_b3a40e10a41c43be928fcf08c2ef764d",
            "max": 1,
            "min": 0,
            "orientation": "horizontal",
            "style": "IPY_MODEL_a8269c2d788c4049b17707488428a20b",
            "value": 1
          }
        },
        "40202e6369f549d4950fbdf7dfe43133": {
          "model_module": "@jupyter-widgets/controls",
          "model_name": "HTMLModel",
          "model_module_version": "1.5.0",
          "state": {
            "_dom_classes": [],
            "_model_module": "@jupyter-widgets/controls",
            "_model_module_version": "1.5.0",
            "_model_name": "HTMLModel",
            "_view_count": null,
            "_view_module": "@jupyter-widgets/controls",
            "_view_module_version": "1.5.0",
            "_view_name": "HTMLView",
            "description": "",
            "description_tooltip": null,
            "layout": "IPY_MODEL_e1a246d68a674a7ba68a7e51ab9b00e9",
            "placeholder": "​",
            "style": "IPY_MODEL_b5381c5b0f5d439cb0121045d13b2590",
            "value": " 1/1 [01:21&lt;00:00, 81.70s/it]"
          }
        },
        "e82742842ade4c0ca611bcc68136465f": {
          "model_module": "@jupyter-widgets/base",
          "model_name": "LayoutModel",
          "model_module_version": "1.2.0",
          "state": {
            "_model_module": "@jupyter-widgets/base",
            "_model_module_version": "1.2.0",
            "_model_name": "LayoutModel",
            "_view_count": null,
            "_view_module": "@jupyter-widgets/base",
            "_view_module_version": "1.2.0",
            "_view_name": "LayoutView",
            "align_content": null,
            "align_items": null,
            "align_self": null,
            "border": null,
            "bottom": null,
            "display": null,
            "flex": null,
            "flex_flow": null,
            "grid_area": null,
            "grid_auto_columns": null,
            "grid_auto_flow": null,
            "grid_auto_rows": null,
            "grid_column": null,
            "grid_gap": null,
            "grid_row": null,
            "grid_template_areas": null,
            "grid_template_columns": null,
            "grid_template_rows": null,
            "height": null,
            "justify_content": null,
            "justify_items": null,
            "left": null,
            "margin": null,
            "max_height": null,
            "max_width": null,
            "min_height": null,
            "min_width": null,
            "object_fit": null,
            "object_position": null,
            "order": null,
            "overflow": null,
            "overflow_x": null,
            "overflow_y": null,
            "padding": null,
            "right": null,
            "top": null,
            "visibility": null,
            "width": null
          }
        },
        "1a0c0175eb574606a9932d0698e3a34e": {
          "model_module": "@jupyter-widgets/base",
          "model_name": "LayoutModel",
          "model_module_version": "1.2.0",
          "state": {
            "_model_module": "@jupyter-widgets/base",
            "_model_module_version": "1.2.0",
            "_model_name": "LayoutModel",
            "_view_count": null,
            "_view_module": "@jupyter-widgets/base",
            "_view_module_version": "1.2.0",
            "_view_name": "LayoutView",
            "align_content": null,
            "align_items": null,
            "align_self": null,
            "border": null,
            "bottom": null,
            "display": null,
            "flex": null,
            "flex_flow": null,
            "grid_area": null,
            "grid_auto_columns": null,
            "grid_auto_flow": null,
            "grid_auto_rows": null,
            "grid_column": null,
            "grid_gap": null,
            "grid_row": null,
            "grid_template_areas": null,
            "grid_template_columns": null,
            "grid_template_rows": null,
            "height": null,
            "justify_content": null,
            "justify_items": null,
            "left": null,
            "margin": null,
            "max_height": null,
            "max_width": null,
            "min_height": null,
            "min_width": null,
            "object_fit": null,
            "object_position": null,
            "order": null,
            "overflow": null,
            "overflow_x": null,
            "overflow_y": null,
            "padding": null,
            "right": null,
            "top": null,
            "visibility": null,
            "width": null
          }
        },
        "d878cbeed911403fa8725ee955c89d89": {
          "model_module": "@jupyter-widgets/controls",
          "model_name": "DescriptionStyleModel",
          "model_module_version": "1.5.0",
          "state": {
            "_model_module": "@jupyter-widgets/controls",
            "_model_module_version": "1.5.0",
            "_model_name": "DescriptionStyleModel",
            "_view_count": null,
            "_view_module": "@jupyter-widgets/base",
            "_view_module_version": "1.2.0",
            "_view_name": "StyleView",
            "description_width": ""
          }
        },
        "b3a40e10a41c43be928fcf08c2ef764d": {
          "model_module": "@jupyter-widgets/base",
          "model_name": "LayoutModel",
          "model_module_version": "1.2.0",
          "state": {
            "_model_module": "@jupyter-widgets/base",
            "_model_module_version": "1.2.0",
            "_model_name": "LayoutModel",
            "_view_count": null,
            "_view_module": "@jupyter-widgets/base",
            "_view_module_version": "1.2.0",
            "_view_name": "LayoutView",
            "align_content": null,
            "align_items": null,
            "align_self": null,
            "border": null,
            "bottom": null,
            "display": null,
            "flex": null,
            "flex_flow": null,
            "grid_area": null,
            "grid_auto_columns": null,
            "grid_auto_flow": null,
            "grid_auto_rows": null,
            "grid_column": null,
            "grid_gap": null,
            "grid_row": null,
            "grid_template_areas": null,
            "grid_template_columns": null,
            "grid_template_rows": null,
            "height": null,
            "justify_content": null,
            "justify_items": null,
            "left": null,
            "margin": null,
            "max_height": null,
            "max_width": null,
            "min_height": null,
            "min_width": null,
            "object_fit": null,
            "object_position": null,
            "order": null,
            "overflow": null,
            "overflow_x": null,
            "overflow_y": null,
            "padding": null,
            "right": null,
            "top": null,
            "visibility": null,
            "width": null
          }
        },
        "a8269c2d788c4049b17707488428a20b": {
          "model_module": "@jupyter-widgets/controls",
          "model_name": "ProgressStyleModel",
          "model_module_version": "1.5.0",
          "state": {
            "_model_module": "@jupyter-widgets/controls",
            "_model_module_version": "1.5.0",
            "_model_name": "ProgressStyleModel",
            "_view_count": null,
            "_view_module": "@jupyter-widgets/base",
            "_view_module_version": "1.2.0",
            "_view_name": "StyleView",
            "bar_color": null,
            "description_width": ""
          }
        },
        "e1a246d68a674a7ba68a7e51ab9b00e9": {
          "model_module": "@jupyter-widgets/base",
          "model_name": "LayoutModel",
          "model_module_version": "1.2.0",
          "state": {
            "_model_module": "@jupyter-widgets/base",
            "_model_module_version": "1.2.0",
            "_model_name": "LayoutModel",
            "_view_count": null,
            "_view_module": "@jupyter-widgets/base",
            "_view_module_version": "1.2.0",
            "_view_name": "LayoutView",
            "align_content": null,
            "align_items": null,
            "align_self": null,
            "border": null,
            "bottom": null,
            "display": null,
            "flex": null,
            "flex_flow": null,
            "grid_area": null,
            "grid_auto_columns": null,
            "grid_auto_flow": null,
            "grid_auto_rows": null,
            "grid_column": null,
            "grid_gap": null,
            "grid_row": null,
            "grid_template_areas": null,
            "grid_template_columns": null,
            "grid_template_rows": null,
            "height": null,
            "justify_content": null,
            "justify_items": null,
            "left": null,
            "margin": null,
            "max_height": null,
            "max_width": null,
            "min_height": null,
            "min_width": null,
            "object_fit": null,
            "object_position": null,
            "order": null,
            "overflow": null,
            "overflow_x": null,
            "overflow_y": null,
            "padding": null,
            "right": null,
            "top": null,
            "visibility": null,
            "width": null
          }
        },
        "b5381c5b0f5d439cb0121045d13b2590": {
          "model_module": "@jupyter-widgets/controls",
          "model_name": "DescriptionStyleModel",
          "model_module_version": "1.5.0",
          "state": {
            "_model_module": "@jupyter-widgets/controls",
            "_model_module_version": "1.5.0",
            "_model_name": "DescriptionStyleModel",
            "_view_count": null,
            "_view_module": "@jupyter-widgets/base",
            "_view_module_version": "1.2.0",
            "_view_name": "StyleView",
            "description_width": ""
          }
        },
        "49ea3d441dd643ce9c5cc9106dd1d985": {
          "model_module": "@jupyter-widgets/controls",
          "model_name": "HBoxModel",
          "model_module_version": "1.5.0",
          "state": {
            "_dom_classes": [],
            "_model_module": "@jupyter-widgets/controls",
            "_model_module_version": "1.5.0",
            "_model_name": "HBoxModel",
            "_view_count": null,
            "_view_module": "@jupyter-widgets/controls",
            "_view_module_version": "1.5.0",
            "_view_name": "HBoxView",
            "box_style": "",
            "children": [
              "IPY_MODEL_322c283ac8214518bb62c674e9f2d117",
              "IPY_MODEL_4e4d493704b844598521863e4525ac2c",
              "IPY_MODEL_f031e1a445f9409b8b100e631eda79ae"
            ],
            "layout": "IPY_MODEL_437d12c42f3649d3a83250c95621641a"
          }
        },
        "322c283ac8214518bb62c674e9f2d117": {
          "model_module": "@jupyter-widgets/controls",
          "model_name": "HTMLModel",
          "model_module_version": "1.5.0",
          "state": {
            "_dom_classes": [],
            "_model_module": "@jupyter-widgets/controls",
            "_model_module_version": "1.5.0",
            "_model_name": "HTMLModel",
            "_view_count": null,
            "_view_module": "@jupyter-widgets/controls",
            "_view_module_version": "1.5.0",
            "_view_name": "HTMLView",
            "description": "",
            "description_tooltip": null,
            "layout": "IPY_MODEL_150b194127ca410c91f0d4f37a8c6488",
            "placeholder": "​",
            "style": "IPY_MODEL_3eadc44152ba4833b256582bd574601c",
            "value": "100%"
          }
        },
        "4e4d493704b844598521863e4525ac2c": {
          "model_module": "@jupyter-widgets/controls",
          "model_name": "FloatProgressModel",
          "model_module_version": "1.5.0",
          "state": {
            "_dom_classes": [],
            "_model_module": "@jupyter-widgets/controls",
            "_model_module_version": "1.5.0",
            "_model_name": "FloatProgressModel",
            "_view_count": null,
            "_view_module": "@jupyter-widgets/controls",
            "_view_module_version": "1.5.0",
            "_view_name": "ProgressView",
            "bar_style": "success",
            "description": "",
            "description_tooltip": null,
            "layout": "IPY_MODEL_ee2fcdccc06d412099914f95c11afb7b",
            "max": 313,
            "min": 0,
            "orientation": "horizontal",
            "style": "IPY_MODEL_8dbd03b6e9fd437e851ff4aec8714161",
            "value": 313
          }
        },
        "f031e1a445f9409b8b100e631eda79ae": {
          "model_module": "@jupyter-widgets/controls",
          "model_name": "HTMLModel",
          "model_module_version": "1.5.0",
          "state": {
            "_dom_classes": [],
            "_model_module": "@jupyter-widgets/controls",
            "_model_module_version": "1.5.0",
            "_model_name": "HTMLModel",
            "_view_count": null,
            "_view_module": "@jupyter-widgets/controls",
            "_view_module_version": "1.5.0",
            "_view_name": "HTMLView",
            "description": "",
            "description_tooltip": null,
            "layout": "IPY_MODEL_f21d481d0e454bcfaa931e628c972e3c",
            "placeholder": "​",
            "style": "IPY_MODEL_9fa74c4e5acd4871a10c81bae14d276e",
            "value": " 313/313 [00:04&lt;00:00, 72.65it/s]"
          }
        },
        "437d12c42f3649d3a83250c95621641a": {
          "model_module": "@jupyter-widgets/base",
          "model_name": "LayoutModel",
          "model_module_version": "1.2.0",
          "state": {
            "_model_module": "@jupyter-widgets/base",
            "_model_module_version": "1.2.0",
            "_model_name": "LayoutModel",
            "_view_count": null,
            "_view_module": "@jupyter-widgets/base",
            "_view_module_version": "1.2.0",
            "_view_name": "LayoutView",
            "align_content": null,
            "align_items": null,
            "align_self": null,
            "border": null,
            "bottom": null,
            "display": null,
            "flex": null,
            "flex_flow": null,
            "grid_area": null,
            "grid_auto_columns": null,
            "grid_auto_flow": null,
            "grid_auto_rows": null,
            "grid_column": null,
            "grid_gap": null,
            "grid_row": null,
            "grid_template_areas": null,
            "grid_template_columns": null,
            "grid_template_rows": null,
            "height": null,
            "justify_content": null,
            "justify_items": null,
            "left": null,
            "margin": null,
            "max_height": null,
            "max_width": null,
            "min_height": null,
            "min_width": null,
            "object_fit": null,
            "object_position": null,
            "order": null,
            "overflow": null,
            "overflow_x": null,
            "overflow_y": null,
            "padding": null,
            "right": null,
            "top": null,
            "visibility": null,
            "width": null
          }
        },
        "150b194127ca410c91f0d4f37a8c6488": {
          "model_module": "@jupyter-widgets/base",
          "model_name": "LayoutModel",
          "model_module_version": "1.2.0",
          "state": {
            "_model_module": "@jupyter-widgets/base",
            "_model_module_version": "1.2.0",
            "_model_name": "LayoutModel",
            "_view_count": null,
            "_view_module": "@jupyter-widgets/base",
            "_view_module_version": "1.2.0",
            "_view_name": "LayoutView",
            "align_content": null,
            "align_items": null,
            "align_self": null,
            "border": null,
            "bottom": null,
            "display": null,
            "flex": null,
            "flex_flow": null,
            "grid_area": null,
            "grid_auto_columns": null,
            "grid_auto_flow": null,
            "grid_auto_rows": null,
            "grid_column": null,
            "grid_gap": null,
            "grid_row": null,
            "grid_template_areas": null,
            "grid_template_columns": null,
            "grid_template_rows": null,
            "height": null,
            "justify_content": null,
            "justify_items": null,
            "left": null,
            "margin": null,
            "max_height": null,
            "max_width": null,
            "min_height": null,
            "min_width": null,
            "object_fit": null,
            "object_position": null,
            "order": null,
            "overflow": null,
            "overflow_x": null,
            "overflow_y": null,
            "padding": null,
            "right": null,
            "top": null,
            "visibility": null,
            "width": null
          }
        },
        "3eadc44152ba4833b256582bd574601c": {
          "model_module": "@jupyter-widgets/controls",
          "model_name": "DescriptionStyleModel",
          "model_module_version": "1.5.0",
          "state": {
            "_model_module": "@jupyter-widgets/controls",
            "_model_module_version": "1.5.0",
            "_model_name": "DescriptionStyleModel",
            "_view_count": null,
            "_view_module": "@jupyter-widgets/base",
            "_view_module_version": "1.2.0",
            "_view_name": "StyleView",
            "description_width": ""
          }
        },
        "ee2fcdccc06d412099914f95c11afb7b": {
          "model_module": "@jupyter-widgets/base",
          "model_name": "LayoutModel",
          "model_module_version": "1.2.0",
          "state": {
            "_model_module": "@jupyter-widgets/base",
            "_model_module_version": "1.2.0",
            "_model_name": "LayoutModel",
            "_view_count": null,
            "_view_module": "@jupyter-widgets/base",
            "_view_module_version": "1.2.0",
            "_view_name": "LayoutView",
            "align_content": null,
            "align_items": null,
            "align_self": null,
            "border": null,
            "bottom": null,
            "display": null,
            "flex": null,
            "flex_flow": null,
            "grid_area": null,
            "grid_auto_columns": null,
            "grid_auto_flow": null,
            "grid_auto_rows": null,
            "grid_column": null,
            "grid_gap": null,
            "grid_row": null,
            "grid_template_areas": null,
            "grid_template_columns": null,
            "grid_template_rows": null,
            "height": null,
            "justify_content": null,
            "justify_items": null,
            "left": null,
            "margin": null,
            "max_height": null,
            "max_width": null,
            "min_height": null,
            "min_width": null,
            "object_fit": null,
            "object_position": null,
            "order": null,
            "overflow": null,
            "overflow_x": null,
            "overflow_y": null,
            "padding": null,
            "right": null,
            "top": null,
            "visibility": null,
            "width": null
          }
        },
        "8dbd03b6e9fd437e851ff4aec8714161": {
          "model_module": "@jupyter-widgets/controls",
          "model_name": "ProgressStyleModel",
          "model_module_version": "1.5.0",
          "state": {
            "_model_module": "@jupyter-widgets/controls",
            "_model_module_version": "1.5.0",
            "_model_name": "ProgressStyleModel",
            "_view_count": null,
            "_view_module": "@jupyter-widgets/base",
            "_view_module_version": "1.2.0",
            "_view_name": "StyleView",
            "bar_color": null,
            "description_width": ""
          }
        },
        "f21d481d0e454bcfaa931e628c972e3c": {
          "model_module": "@jupyter-widgets/base",
          "model_name": "LayoutModel",
          "model_module_version": "1.2.0",
          "state": {
            "_model_module": "@jupyter-widgets/base",
            "_model_module_version": "1.2.0",
            "_model_name": "LayoutModel",
            "_view_count": null,
            "_view_module": "@jupyter-widgets/base",
            "_view_module_version": "1.2.0",
            "_view_name": "LayoutView",
            "align_content": null,
            "align_items": null,
            "align_self": null,
            "border": null,
            "bottom": null,
            "display": null,
            "flex": null,
            "flex_flow": null,
            "grid_area": null,
            "grid_auto_columns": null,
            "grid_auto_flow": null,
            "grid_auto_rows": null,
            "grid_column": null,
            "grid_gap": null,
            "grid_row": null,
            "grid_template_areas": null,
            "grid_template_columns": null,
            "grid_template_rows": null,
            "height": null,
            "justify_content": null,
            "justify_items": null,
            "left": null,
            "margin": null,
            "max_height": null,
            "max_width": null,
            "min_height": null,
            "min_width": null,
            "object_fit": null,
            "object_position": null,
            "order": null,
            "overflow": null,
            "overflow_x": null,
            "overflow_y": null,
            "padding": null,
            "right": null,
            "top": null,
            "visibility": null,
            "width": null
          }
        },
        "9fa74c4e5acd4871a10c81bae14d276e": {
          "model_module": "@jupyter-widgets/controls",
          "model_name": "DescriptionStyleModel",
          "model_module_version": "1.5.0",
          "state": {
            "_model_module": "@jupyter-widgets/controls",
            "_model_module_version": "1.5.0",
            "_model_name": "DescriptionStyleModel",
            "_view_count": null,
            "_view_module": "@jupyter-widgets/base",
            "_view_module_version": "1.2.0",
            "_view_name": "StyleView",
            "description_width": ""
          }
        }
      }
    }
  },
  "nbformat": 4,
  "nbformat_minor": 0
}